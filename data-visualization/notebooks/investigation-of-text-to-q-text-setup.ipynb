{
 "cells": [
  {
   "cell_type": "markdown",
   "metadata": {
    "deletable": true,
    "editable": true
   },
   "source": [
    "Investigation of text to q-text setup\n",
    "==================\n",
    "\n",
    "The setup of the text to qs takes considerable time. It is currently imported in `scholia/text.py`. This notebook investigates timing issues.\n",
    "There are multiple problems:\n",
    "* The SPARQL query against the Wikidata Query Service takes too long\n",
    "* Saving and load a local mapping may take some time.\n",
    "  * It is not clear which statements take time"
   ]
  },
  {
   "cell_type": "code",
   "execution_count": 1,
   "metadata": {
    "collapsed": false,
    "deletable": true,
    "editable": true
   },
   "outputs": [],
   "source": [
    "from __future__ import print_function\n",
    "\n",
    "import json\n",
    "from os import unlink\n",
    "import re\n",
    "from six.moves import cPickle as pickle\n",
    "from tempfile import NamedTemporaryFile\n",
    "from time import time\n",
    "\n",
    "import requests"
   ]
  },
  {
   "cell_type": "markdown",
   "metadata": {
    "deletable": true,
    "editable": true
   },
   "source": [
    "SPARQL queries\n",
    "----------------\n",
    "The SPARQL query/queries to the WDQS are apparently quite expensive, but there does not seem to be any way to optimize it. The `DISTINCT` is possibly expensive, but it seems that we need this in order not to have a too large response."
   ]
  },
  {
   "cell_type": "code",
   "execution_count": 2,
   "metadata": {
    "collapsed": false,
    "deletable": true,
    "editable": true
   },
   "outputs": [],
   "source": [
    "TOPIC_LABELS_SPARQL_1 = \"\"\"\n",
    "SELECT ?topic ?topic_label\n",
    "WITH {\n",
    "  SELECT DISTINCT ?topic WHERE {\n",
    "    [] wdt:P921 ?topic .\n",
    "  }\n",
    "} AS %topics\n",
    "WHERE {\n",
    "  INCLUDE %topics\n",
    "  ?topic rdfs:label | skos:altLabel ?topic_label_ .\n",
    "  FILTER(LANG(?topic_label_) = 'en')\n",
    "  BIND(LCASE(?topic_label_) AS ?topic_label)\n",
    "}\n",
    "\"\"\"\n",
    "\n",
    "TOPIC_LABELS_SPARQL_2 = \"\"\"\n",
    "SELECT ?topic ?topic_label\n",
    "WITH {\n",
    "  SELECT DISTINCT ?topic WHERE {\n",
    "    [] \n",
    "    wdt:P31 wd:Q13442814 ;\n",
    "    wdt:P921 ?topic .\n",
    "  }\n",
    "} AS %topics\n",
    "WHERE {\n",
    "  INCLUDE %topics\n",
    "  ?topic rdfs:label | skos:altLabel ?topic_label_ .\n",
    "  FILTER(LANG(?topic_label_) = 'en')\n",
    "  BIND(LCASE(?topic_label_) AS ?topic_label)\n",
    "}\n",
    "\"\"\""
   ]
  },
  {
   "cell_type": "markdown",
   "metadata": {
    "deletable": true,
    "editable": true
   },
   "source": [
    "Wikidata Query Service query times\n",
    "--------------------------------------"
   ]
  },
  {
   "cell_type": "code",
   "execution_count": 3,
   "metadata": {
    "collapsed": false,
    "deletable": true,
    "editable": true
   },
   "outputs": [
    {
     "name": "stdout",
     "output_type": "stream",
     "text": [
      "33.949878931 seconds without scientific article restriction\n",
      "42.9140400887 seconds with scientific article restriction\n"
     ]
    }
   ],
   "source": [
    "start_time = time()\n",
    "response = requests.get('https://query.wikidata.org/sparql',\n",
    "             params={'query': TOPIC_LABELS_SPARQL_1, 'format': 'json'})\n",
    "print(\"{} seconds without scientific article restriction\".format(\n",
    "    time() - start_time))\n",
    "\n",
    "start_time = time()\n",
    "requests.get('https://query.wikidata.org/sparql',\n",
    "             params={'query': TOPIC_LABELS_SPARQL_2, 'format': 'json'})\n",
    "print(\"{} seconds with scientific article restriction\".format(time() - start_time))"
   ]
  },
  {
   "cell_type": "markdown",
   "metadata": {
    "deletable": true,
    "editable": true
   },
   "source": [
    "The query time can vary considerably from over 1 minute to under 1 second. There is a result in the WDQS cache."
   ]
  },
  {
   "cell_type": "markdown",
   "metadata": {
    "deletable": true,
    "editable": true
   },
   "source": [
    "Get data from Wikidata Query Service\n",
    "----------------------------------------\n",
    "Query WDQS and save the information to a Python dictionary `mapper`.\n",
    "\n",
    "WDQS may here return a wrong format which results in `JSONDecoder`."
   ]
  },
  {
   "cell_type": "code",
   "execution_count": 4,
   "metadata": {
    "collapsed": false,
    "deletable": true,
    "editable": true
   },
   "outputs": [],
   "source": [
    "response_data = response.json()\n",
    "data = response_data['results']['bindings']\n",
    "\n",
    "mapper = {}\n",
    "for datum in data:\n",
    "    mapper[datum['topic_label']['value']] = datum['topic']['value'][31:]"
   ]
  },
  {
   "cell_type": "markdown",
   "metadata": {},
   "source": [
    "`mapper` is now a dictionary. Saving and reading this dictionary might be faster than querying WDQS each time."
   ]
  },
  {
   "cell_type": "markdown",
   "metadata": {
    "deletable": true,
    "editable": true
   },
   "source": [
    "Pickel saving and loading times\n",
    "----------------------------------\n",
    "First we example loading and saving with pickle."
   ]
  },
  {
   "cell_type": "code",
   "execution_count": 5,
   "metadata": {
    "collapsed": false,
    "deletable": true,
    "editable": true
   },
   "outputs": [
    {
     "name": "stdout",
     "output_type": "stream",
     "text": [
      "0.50463104248 seconds - saving dictionary as pickle\n"
     ]
    }
   ],
   "source": [
    "handle = NamedTemporaryFile(delete=False)\n",
    "\n",
    "start_time = time()\n",
    "pickle.dump(mapper, handle)\n",
    "print(\"{} seconds - saving dictionary as pickle\".format(\n",
    "    time() - start_time))"
   ]
  },
  {
   "cell_type": "code",
   "execution_count": 6,
   "metadata": {
    "collapsed": false,
    "deletable": true,
    "editable": true,
    "scrolled": true
   },
   "outputs": [
    {
     "name": "stdout",
     "output_type": "stream",
     "text": [
      "0.506339073181 seconds - load dictionary from pickle\n"
     ]
    }
   ],
   "source": [
    "handle.seek(0)\n",
    "\n",
    "start_time = time()\n",
    "loaded_data = pickle.load(handle)\n",
    "print(\"{} seconds - load dictionary from pickle\".format(\n",
    "    time() - start_time))\n",
    "\n",
    "unlink(handle.name)"
   ]
  },
  {
   "cell_type": "markdown",
   "metadata": {
    "deletable": true,
    "editable": true
   },
   "source": [
    "JSON saving and loading times\n",
    "--------------------------------\n",
    "\n",
    "Then saving and loading in the JSON format. "
   ]
  },
  {
   "cell_type": "code",
   "execution_count": 7,
   "metadata": {
    "collapsed": false,
    "deletable": true,
    "editable": true
   },
   "outputs": [
    {
     "name": "stdout",
     "output_type": "stream",
     "text": [
      "0.545118093491 seconds - saving dictionary as JSON\n"
     ]
    }
   ],
   "source": [
    "handle = NamedTemporaryFile(suffix=\".json\", delete=False)\n",
    "\n",
    "start_time = time()\n",
    "json.dump(mapper, handle)\n",
    "print(\"{} seconds - saving dictionary as JSON\".format(\n",
    "    time() - start_time))"
   ]
  },
  {
   "cell_type": "code",
   "execution_count": 8,
   "metadata": {
    "collapsed": false,
    "deletable": true,
    "editable": true
   },
   "outputs": [
    {
     "name": "stdout",
     "output_type": "stream",
     "text": [
      "0.278386831284 seconds - load dictionary from JSON\n"
     ]
    }
   ],
   "source": [
    "handle.seek(0)\n",
    "\n",
    "start_time = time()\n",
    "loaded_data = json.load(handle)\n",
    "print(\"{} seconds - load dictionary from JSON\".format(\n",
    "    time() - start_time))\n",
    "\n",
    "unlink(handle.name)"
   ]
  },
  {
   "cell_type": "markdown",
   "metadata": {
    "collapsed": true,
    "deletable": true,
    "editable": true
   },
   "source": [
    "The difference between JSON and pickle are hardly important.\n",
    "It does not seem to be this part that affects the processing time."
   ]
  },
  {
   "cell_type": "markdown",
   "metadata": {},
   "source": [
    "Set up of regular expression\n",
    "--------------------------------\n",
    "\n",
    "Could it be that it is the set up of the regular expression that takes time?"
   ]
  },
  {
   "cell_type": "code",
   "execution_count": 9,
   "metadata": {
    "collapsed": false,
    "deletable": true,
    "editable": true
   },
   "outputs": [
    {
     "name": "stdout",
     "output_type": "stream",
     "text": [
      "1.37413787842 seconds - extract tokens\n"
     ]
    }
   ],
   "source": [
    "times = [time()]\n",
    "\n",
    "tokens = mapper.keys()\n",
    "tokens = sorted(tokens, key=len, reverse=True)\n",
    "tokens = [re.escape(token) for token in tokens if len(token) > 3]\n",
    "\n",
    "times.append(time())\n",
    "print(\"{} seconds - extract tokens\".format(times[-1] - times[-2]))"
   ]
  },
  {
   "cell_type": "code",
   "execution_count": 10,
   "metadata": {
    "collapsed": false,
    "deletable": true,
    "editable": true
   },
   "outputs": [
    {
     "name": "stdout",
     "output_type": "stream",
     "text": [
      "1.33539795876 seconds - extract tokens\n"
     ]
    }
   ],
   "source": [
    "times = [time()]\n",
    "\n",
    "tokens = mapper.keys()\n",
    "tokens = [token for token in tokens if len(token) > 3]\n",
    "tokens = sorted(tokens, key=len, reverse=True)\n",
    "tokens = [re.escape(token) for token in tokens]\n",
    "\n",
    "times.append(time())\n",
    "print(\"{} seconds - extract tokens\".format(times[-1] - times[-2]))"
   ]
  },
  {
   "cell_type": "code",
   "execution_count": 11,
   "metadata": {
    "collapsed": false,
    "deletable": true,
    "editable": true
   },
   "outputs": [
    {
     "name": "stdout",
     "output_type": "stream",
     "text": [
      "12.4290189743 seconds - compile regex\n"
     ]
    }
   ],
   "source": [
    "times.append(time())\n",
    "\n",
    "regex = '(?:' + \"|\".join(tokens) + ')'\n",
    "regex = r\"\\b\" + regex + r\"\\b\"\n",
    "regex = '(' + regex + ')'\n",
    "pattern = re.compile(regex, flags=re.UNICODE | re.DOTALL)\n",
    "\n",
    "times.append(time())\n",
    "print(\"{} seconds - compile regex\".format(times[-1] - times[-2]))"
   ]
  },
  {
   "cell_type": "markdown",
   "metadata": {
    "deletable": true,
    "editable": true
   },
   "source": [
    "There seems to be some of caching in the compilation of the regular expression as the compilation time can vary considerably from 10 seconds to 10 milliseconds."
   ]
  },
  {
   "cell_type": "code",
   "execution_count": null,
   "metadata": {
    "collapsed": true,
    "deletable": true,
    "editable": true
   },
   "outputs": [],
   "source": []
  }
 ],
 "metadata": {
  "kernelspec": {
   "display_name": "Python 2",
   "language": "python",
   "name": "python2"
  },
  "language_info": {
   "codemirror_mode": {
    "name": "ipython",
    "version": 2
   },
   "file_extension": ".py",
   "mimetype": "text/x-python",
   "name": "python",
   "nbconvert_exporter": "python",
   "pygments_lexer": "ipython2",
   "version": "2.7.12"
  }
 },
 "nbformat": 4,
 "nbformat_minor": 2
}
